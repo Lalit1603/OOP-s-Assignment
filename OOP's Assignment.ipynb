{
 "cells": [
  {
   "cell_type": "markdown",
   "id": "e992fb9c",
   "metadata": {},
   "source": [
    "Problem 1: Bank Account Create a class representing a bank account with attributes like account number, account holder name, and balance. Implement methods to deposit and withdraw money from the account.\n",
    "\n",
    "Problem 2: Employee Management Create a class representing an employee with attributes like employee ID, name, and salary. Implement methods to calculate the yearly bonus and display employee details.\n",
    "\n",
    "Problem 3: Vehicle Rental Create a class representing a vehicle rental system. Implement methods to rent a vehicle, return a vehicle, and display available vehicles.\n",
    "\n",
    "Problem 4: Library Catalog Create classes representing a library and a book. Implement methods to add books to the library, borrow books, and display available books.\n",
    "\n",
    "Problem 5: Product Inventory Create classes representing a product and an inventory system. Implement methods to add products to the inventory, update product quantity, and display available products.\n",
    "\n",
    "Problem 6: Shape Calculation Create a class representing a shape with attributes like length, width, and height. Implement methods to calculate the area and perimeter of the shape.\n",
    "\n",
    "Problem 7: Student Management Create a class representing a student with attributes like student ID, name, and grades. Implement methods to calculate the average grade and display student details.\n",
    "\n",
    "Problem 8: Email Management Create a class representing an email with attributes like sender, recipient, and subject. Implement methods to send an email and display email details.\n",
    "\n",
    "Problem 9: Social Media Profile Create a class representing a social media profile with attributes like username and posts. Implement methods to add posts, display posts, and search for posts by keyword.\n",
    "\n",
    "Problem 10: ToDo List Create a class representing a ToDo list with attributes like tasks and due dates. Implement methods to add tasks, mark tasks as completed, and display pending tasks."
   ]
  },
  {
   "cell_type": "markdown",
   "id": "c904ef9b",
   "metadata": {},
   "source": [
    "Problem 1: Bank Account Create a class representing a bank account with attributes like account number, account holder name, and balance. Implement methods to deposit and withdraw money from the account.\n"
   ]
  },
  {
   "cell_type": "code",
   "execution_count": 93,
   "id": "aa853aba",
   "metadata": {},
   "outputs": [
    {
     "name": "stdout",
     "output_type": "stream",
     "text": [
      "Enter Your's Bank Account Number:-120012\n"
     ]
    }
   ],
   "source": [
    "class BankAccount:\n",
    "    \n",
    "    customers={1234:[\"Lalit\",4000],5678:[\"Kunal\",5000],120012:[\"Siddhesh\",7000]}\n",
    "    minbal=1000\n",
    "    \n",
    "    @classmethod\n",
    "    def __init__(cls,acc_no):\n",
    "        cls.acc_no = acc_no\n",
    "        if cls.acc_no in cls.customers:\n",
    "            cls.name = cls.customers[acc_no][0]\n",
    "            cls.balance = cls.customers[acc_no][1]\n",
    "        else:\n",
    "            print(\"Please Check Your Bank Account Number is Entered is Correct!\")\n",
    "            \n",
    "    def checkBal(self):\n",
    "        print(\"Account Number:-\",self.acc_no)\n",
    "        print(\"Name of Customer:-\",self.name)\n",
    "        print(\"Your Current Balance is:-\",self.balance)\n",
    "    \n",
    "    def deposit(self,acc_no,amount):\n",
    "        \"\"\"Enter Your Account Number and Amount to be inserted in Bank Account\n",
    "        \"\"\"\n",
    "        self.balance +=amount\n",
    "        self.customers[acc_no][1]=self.balance\n",
    "        print(f\"Your Account is Credited with Amount {amount}Rs Your Current Balance is {self.balance}\")\n",
    "    \n",
    "    def withdrawn(self,acc_no,withdraw_amount):\n",
    "        \"\"\" Enter Your Account Number and Withdrawn Amount from your Account\n",
    "        \"\"\"\n",
    "        if self.balance > self.minbal:\n",
    "            #At time of withdrawn keep in mind min bal is 1000\n",
    "            if self.balance - withdraw_amount >= self.minbal:\n",
    "                self.balance-=withdraw_amount\n",
    "                print(f\"{withdraw_amount}Rs Withdrawn From Your Account XXXX{self.acc_no}\")\n",
    "            else:\n",
    "                print(\"Can't Withdrawn Amount Please Keep MinBalance At Account Rs.1000\")\n",
    "        else:\n",
    "            print(\"Your Balance is Not Sufficient to be Withdrawn Amount\")\n",
    "            \n",
    "account_num = int(input(\"Enter Your's Bank Account Number:-\"))       \n",
    "b1 = BankAccount(account_num)\n",
    "        \n",
    "        "
   ]
  },
  {
   "cell_type": "code",
   "execution_count": 94,
   "id": "e6acb03e",
   "metadata": {},
   "outputs": [
    {
     "name": "stdout",
     "output_type": "stream",
     "text": [
      "Account Number:- 120012\n",
      "Name of Customer:- Siddhesh\n",
      "Your Current Balance is:- 7000\n"
     ]
    }
   ],
   "source": [
    "b1.checkBal()"
   ]
  },
  {
   "cell_type": "code",
   "execution_count": 95,
   "id": "886d38aa",
   "metadata": {},
   "outputs": [
    {
     "name": "stdout",
     "output_type": "stream",
     "text": [
      "Your Account is Credited with Amount 1000Rs Your Current Balance is 8000\n"
     ]
    }
   ],
   "source": [
    "b1.deposit(1234,1000)"
   ]
  },
  {
   "cell_type": "code",
   "execution_count": 96,
   "id": "4f1a50cc",
   "metadata": {},
   "outputs": [
    {
     "name": "stdout",
     "output_type": "stream",
     "text": [
      "Account Number:- 120012\n",
      "Name of Customer:- Siddhesh\n",
      "Your Current Balance is:- 8000\n"
     ]
    }
   ],
   "source": [
    "b1.checkBal()"
   ]
  },
  {
   "cell_type": "code",
   "execution_count": 97,
   "id": "dcba45c6",
   "metadata": {},
   "outputs": [
    {
     "name": "stdout",
     "output_type": "stream",
     "text": [
      "500Rs Withdrawn From Your Account XXXX120012\n"
     ]
    }
   ],
   "source": [
    "b1.withdrawn(1234,500)"
   ]
  },
  {
   "cell_type": "code",
   "execution_count": 98,
   "id": "96888a89",
   "metadata": {},
   "outputs": [
    {
     "name": "stdout",
     "output_type": "stream",
     "text": [
      "Account Number:- 120012\n",
      "Name of Customer:- Siddhesh\n",
      "Your Current Balance is:- 7500\n"
     ]
    }
   ],
   "source": [
    "b1.checkBal()"
   ]
  },
  {
   "cell_type": "code",
   "execution_count": 99,
   "id": "ee07bc6b",
   "metadata": {},
   "outputs": [
    {
     "name": "stdout",
     "output_type": "stream",
     "text": [
      "4500Rs Withdrawn From Your Account XXXX120012\n"
     ]
    }
   ],
   "source": [
    "b1.withdrawn(1234,4500)"
   ]
  },
  {
   "cell_type": "code",
   "execution_count": 100,
   "id": "0f938cf2",
   "metadata": {},
   "outputs": [
    {
     "name": "stdout",
     "output_type": "stream",
     "text": [
      "Can't Withdrawn Amount Please Keep MinBalance At Account Rs.1000\n"
     ]
    }
   ],
   "source": [
    "b1.withdrawn(1234,3800)"
   ]
  },
  {
   "cell_type": "code",
   "execution_count": 101,
   "id": "ffbfb78b",
   "metadata": {},
   "outputs": [
    {
     "name": "stdout",
     "output_type": "stream",
     "text": [
      "Can't Withdrawn Amount Please Keep MinBalance At Account Rs.1000\n"
     ]
    }
   ],
   "source": [
    "b1.withdrawn(1234,3500)"
   ]
  },
  {
   "cell_type": "code",
   "execution_count": 102,
   "id": "f5a4fee1",
   "metadata": {},
   "outputs": [
    {
     "name": "stdout",
     "output_type": "stream",
     "text": [
      "1000Rs Withdrawn From Your Account XXXX120012\n"
     ]
    }
   ],
   "source": [
    "b1.withdrawn(1234,1000)"
   ]
  },
  {
   "cell_type": "code",
   "execution_count": 103,
   "id": "b482074a",
   "metadata": {},
   "outputs": [
    {
     "name": "stdout",
     "output_type": "stream",
     "text": [
      "Account Number:- 120012\n",
      "Name of Customer:- Siddhesh\n",
      "Your Current Balance is:- 2000\n"
     ]
    }
   ],
   "source": [
    "b1.checkBal()"
   ]
  },
  {
   "cell_type": "markdown",
   "id": "307ca426",
   "metadata": {},
   "source": [
    "Problem 2: Employee Management Create a class representing an employee with attributes like employee ID, name, and salary. Implement methods to calculate the yearly bonus and display employee details."
   ]
  },
  {
   "cell_type": "code",
   "execution_count": 131,
   "id": "4bf33a92",
   "metadata": {},
   "outputs": [],
   "source": [
    "class EmployeeManagement:\n",
    "    \n",
    "    @classmethod\n",
    "    def __init__(cls,emp_id,emp_name,emp_sal):\n",
    "        cls.emp_id = emp_id\n",
    "        cls.emp_name = emp_name\n",
    "        cls.emp_sal = emp_sal\n",
    "        cls.bonus = 0\n",
    "        \n",
    "        \n",
    "    def calBonus(self,emp_sal,percentage):\n",
    "        self.bonus += self.emp_sal * (percentage/100)\n",
    "    def displayInfo(self):\n",
    "        print(\"Employee Details:\")\n",
    "        print(\"Employee ID:-\",self.emp_id)\n",
    "        print(\"Employee Name:-\",self.emp_name)\n",
    "        print(\"Employee Salary:-\",self.emp_sal)\n",
    "        print(\"Employee  Yearly Bouns is:-\",self.bonus)"
   ]
  },
  {
   "cell_type": "code",
   "execution_count": 132,
   "id": "270bbf25",
   "metadata": {},
   "outputs": [
    {
     "name": "stdout",
     "output_type": "stream",
     "text": [
      "Enter ID of Employee:-1\n",
      "Enter a Name of Employee:-Lalit\n",
      "Enter a Salary of Employee:-40000\n"
     ]
    }
   ],
   "source": [
    "eid=int(input(\"Enter ID of Employee:-\"))\n",
    "ename = input(\"Enter a Name of Employee:-\")\n",
    "esal = int(input(\"Enter a Salary of Employee:-\"))\n",
    "e1 = EmployeeManagement(eid,ename,esal)"
   ]
  },
  {
   "cell_type": "code",
   "execution_count": 133,
   "id": "2aa33725",
   "metadata": {},
   "outputs": [],
   "source": [
    "e1.calBonus(esal,35)"
   ]
  },
  {
   "cell_type": "code",
   "execution_count": 134,
   "id": "088593f9",
   "metadata": {},
   "outputs": [
    {
     "name": "stdout",
     "output_type": "stream",
     "text": [
      "Employee Details:\n",
      "Employee ID:- 1\n",
      "Employee Name:- Lalit\n",
      "Employee Salary:- 40000\n",
      "Employee  Yearly Bouns is:- 14000.0\n"
     ]
    }
   ],
   "source": [
    "e1.displayInfo()"
   ]
  },
  {
   "cell_type": "markdown",
   "id": "7cb27da2",
   "metadata": {},
   "source": [
    "Problem 3: Vehicle Rental Create a class representing a vehicle rental system. Implement methods to rent a vehicle, return a vehicle, and display available vehicles."
   ]
  },
  {
   "cell_type": "code",
   "execution_count": 63,
   "id": "20d1e0bb",
   "metadata": {},
   "outputs": [],
   "source": [
    "#class RentalVehicle\n",
    "#meth:-rent a vehicle,return a vehicle and display available vehicles\n",
    "class VehicleRental:\n",
    "    def __init__(self,vehicle):\n",
    "        self.vehicle = vehicle\n",
    "        \n",
    "    @classmethod\n",
    "    def availableVehicle(cls):\n",
    "        cls.avalVehicle ={\n",
    "                        'twoWheeler':['Splendor','Shine','Platina'],\n",
    "                        'threeWheeler':['Swift','Alto','Ertica']\n",
    "                    }\n",
    "    @classmethod\n",
    "    def displayVehicle(cls):\n",
    "        VehicleRental.availableVehicle()\n",
    "        cls.a = int(input(\"Enter 2 For TwoWheeler Vehicle\\nEnter 4 for FourWheeler Vehicle\\n\"))\n",
    "        if cls.a == 2:\n",
    "            print(cls.avalVehicle['twoWheeler'])\n",
    "        elif cls.a == 4:\n",
    "            print(cls.avalVehicle['threeWheeler'])\n",
    "        else:\n",
    "            print(\"Please Enter a Proper Input:-\")\n",
    "            \n",
    "    def rentVehicle(self):\n",
    "        VehicleRental.displayVehicle()\n",
    "        self.vehName = input(\"Enter a Name of Vehicle you Want From List:-\")\n",
    "        if self.vehName in self.avalVehicle['twoWheeler']:\n",
    "            self.rent = 100\n",
    "        elif self.vehName in self.availableVehicle['threeWheeler']:\n",
    "            self.rent = 300\n",
    "            \n",
    "    def returnVehicle(self,days,vehicleType):\n",
    "        if self.a == vehicleType:\n",
    "            self.rent = 100\n",
    "            self.totalrent = days * self.rent\n",
    "            return self.totalrent\n",
    "        elif self.vehicleType == self.b:\n",
    "            self.rent = 300\n",
    "            self.totalrent = self.days * rent\n",
    "            return self.totalren\n",
    "            \n",
    "            \n",
    "    "
   ]
  },
  {
   "cell_type": "code",
   "execution_count": 64,
   "id": "651ab37d",
   "metadata": {},
   "outputs": [],
   "source": [
    "v1 = VehicleRental('abc')"
   ]
  },
  {
   "cell_type": "code",
   "execution_count": 65,
   "id": "cd9ebfb2",
   "metadata": {},
   "outputs": [
    {
     "name": "stdout",
     "output_type": "stream",
     "text": [
      "Enter 2 For TwoWheeler Vehicle\n",
      "Enter 4 for FourWheeler Vehicle\n",
      "2\n",
      "['Splendor', 'Shine', 'Platina']\n"
     ]
    }
   ],
   "source": [
    "v1.displayVehicle()"
   ]
  },
  {
   "cell_type": "code",
   "execution_count": 66,
   "id": "66074e02",
   "metadata": {},
   "outputs": [
    {
     "name": "stdout",
     "output_type": "stream",
     "text": [
      "Enter 2 For TwoWheeler Vehicle\n",
      "Enter 4 for FourWheeler Vehicle\n",
      "2\n",
      "['Splendor', 'Shine', 'Platina']\n",
      "Enter a Name of Vehicle you Want From List:-Platina\n"
     ]
    }
   ],
   "source": [
    "v1.rentVehicle()"
   ]
  },
  {
   "cell_type": "code",
   "execution_count": 67,
   "id": "713efc32",
   "metadata": {},
   "outputs": [
    {
     "data": {
      "text/plain": [
       "500"
      ]
     },
     "execution_count": 67,
     "metadata": {},
     "output_type": "execute_result"
    }
   ],
   "source": [
    "v1.returnVehicle(5,2)"
   ]
  },
  {
   "cell_type": "code",
   "execution_count": 1,
   "id": "13eb3f36",
   "metadata": {},
   "outputs": [
    {
     "name": "stdout",
     "output_type": "stream",
     "text": [
      "Available Books:\n",
      "Harry Potter and the Philosopher's Stone by J.K. Rowling\n",
      "To Kill a Mockingbird by Harper Lee\n",
      "Harry Potter and the Philosopher's Stone has been borrowed successfully.\n",
      "Available Books:\n",
      "To Kill a Mockingbird by Harper Lee\n"
     ]
    }
   ],
   "source": [
    "#Problem:4\n",
    "class Book:\n",
    "    def __init__(self, title, author):\n",
    "        self.title = title\n",
    "        self.author = author\n",
    "        self.available = True\n",
    "\n",
    "class Library:\n",
    "    def __init__(self):\n",
    "        self.books = []\n",
    "\n",
    "    def add_book(self, book):\n",
    "        self.books.append(book)\n",
    "\n",
    "    def borrow_book(self, title):\n",
    "        for book in self.books:\n",
    "            if book.title == title and book.available:\n",
    "                book.available = False\n",
    "                print(f\"{title} has been borrowed successfully.\")\n",
    "                return\n",
    "        print(f\"Sorry, {title} is not available for borrowing.\")\n",
    "\n",
    "    def display_available_books(self):\n",
    "        print(\"Available Books:\")\n",
    "        for book in self.books:\n",
    "            if book.available:\n",
    "                print(f\"{book.title} by {book.author}\")\n",
    "\n",
    "# Example usage:\n",
    "library = Library()\n",
    "book1 = Book(\"Harry Potter and the Philosopher's Stone\", \"J.K. Rowling\")\n",
    "book2 = Book(\"To Kill a Mockingbird\", \"Harper Lee\")\n",
    "\n",
    "library.add_book(book1)\n",
    "library.add_book(book2)\n",
    "\n",
    "library.display_available_books()\n",
    "\n",
    "library.borrow_book(\"Harry Potter and the Philosopher's Stone\")\n",
    "\n",
    "library.display_available_books()\n"
   ]
  },
  {
   "cell_type": "code",
   "execution_count": 2,
   "id": "d8126610",
   "metadata": {},
   "outputs": [
    {
     "name": "stdout",
     "output_type": "stream",
     "text": [
      "Available Products:\n",
      "Laptop - Price: 1000, Quantity: 10\n",
      "Phone - Price: 800, Quantity: 20\n",
      "Quantity of Laptop updated successfully.\n",
      "Available Products:\n",
      "Laptop - Price: 1000, Quantity: 8\n",
      "Phone - Price: 800, Quantity: 20\n"
     ]
    }
   ],
   "source": [
    "#Problem 5:-\n",
    "class Product:\n",
    "    def __init__(self, name, price, quantity):\n",
    "        self.name = name\n",
    "        self.price = price\n",
    "        self.quantity = quantity\n",
    "\n",
    "class Inventory:\n",
    "    def __init__(self):\n",
    "        self.products = []\n",
    "\n",
    "    def add_product(self, product):\n",
    "        self.products.append(product)\n",
    "\n",
    "    def update_quantity(self, name, new_quantity):\n",
    "        for product in self.products:\n",
    "            if product.name == name:\n",
    "                product.quantity = new_quantity\n",
    "                print(f\"Quantity of {name} updated successfully.\")\n",
    "                return\n",
    "        print(f\"Product {name} not found in inventory.\")\n",
    "\n",
    "    def display_available_products(self):\n",
    "        print(\"Available Products:\")\n",
    "        for product in self.products:\n",
    "            print(f\"{product.name} - Price: {product.price}, Quantity: {product.quantity}\")\n",
    "\n",
    "# Example usage:\n",
    "inventory = Inventory()\n",
    "product1 = Product(\"Laptop\", 1000, 10)\n",
    "product2 = Product(\"Phone\", 800, 20)\n",
    "\n",
    "inventory.add_product(product1)\n",
    "inventory.add_product(product2)\n",
    "\n",
    "inventory.display_available_products()\n",
    "\n",
    "inventory.update_quantity(\"Laptop\", 8)\n",
    "\n",
    "inventory.display_available_products()\n"
   ]
  },
  {
   "cell_type": "code",
   "execution_count": 9,
   "id": "be3605ad",
   "metadata": {},
   "outputs": [],
   "source": [
    "#Problem 6:-class Shape:\n",
    "    def __init__(self, length, width, height):\n",
    "        self.length = length\n",
    "        self.width = width\n",
    "        self.height = height\n",
    "\n",
    "    def calculate_area(self):\n",
    "        pass\n",
    "\n",
    "    def calculate_perimeter(self):\n",
    "        pass\n",
    "\n",
    "class Rectangle(Shape):\n",
    "    def calculate_area(self):\n",
    "        return self.length * self.width\n",
    "\n",
    "    def calculate_perimeter(self):\n",
    "        return 2 * (self.length + self.width)\n",
    "\n",
    "class Triangle(Shape):\n",
    "    def calculate_area(self):\n",
    "        return 0.5 * self.base * self.height\n",
    "\n",
    "    def calculate_perimeter(self):\n",
    "        return self.base + self.height + self.hypotenuse\n",
    "\n",
    "# Example usage:\n",
    "rectangle = Rectangle(4, 5, None)\n",
    "print(\"Rectangle Area:\", rectangle.calculate_area())\n",
    "print(\"Rectangle Perimeter:\", rectangle.calculate_perimeter())\n",
    "\n",
    "triangle = Triangle(None, None, 3, 4, 5)\n",
    "print(\"Triangle Area:\", triangle.calculate_area())\n",
    "print(\"Triangle Perimeter:\", triangle.calculate_perimeter())\n"
   ]
  },
  {
   "cell_type": "code",
   "execution_count": 4,
   "id": "ab17d57b",
   "metadata": {},
   "outputs": [],
   "source": [
    "#Problem 7:-\n",
    "class Student:\n",
    "    def __init__(self, student_id, name, grades):\n",
    "        self.student_id = student_id\n",
    "        self.name = name\n",
    "        self.grades = grades\n",
    "\n",
    "    def calculate_average_grade(self):\n",
    "        return sum(self.grades) / len(self.grades)\n",
    "\n",
    "    def display_details(self):\n",
    "        print(\"Student ID:\", self.student_id)\n",
    "        print(\"Name:\", self.name)\n",
    "        print(\"Grades:\", self.grades)\n",
    "        print(\"Average Grade:\", self.calculate_average_grade())\n",
    "\n",
    "# Example usage:\n",
    "student = Student(1, \"John Doe\", [85, 90, 95])\n",
    "student.display_details()\n"
   ]
  },
  {
   "cell_type": "code",
   "execution_count": 5,
   "id": "7e91470d",
   "metadata": {},
   "outputs": [],
   "source": [
    "#Problem 8:-\n",
    "class Email:\n",
    "    def __init__(self, sender, recipient, subject):\n",
    "        self.sender = sender\n",
    "        self.recipient = recipient\n",
    "        self.subject = subject\n",
    "\n",
    "    def send_email(self):\n",
    "        print(f\"Email sent from {self.sender} to {self.recipient} with subject: {self.subject}\")\n",
    "\n",
    "    def display_details(self):\n",
    "        print(\"Sender:\", self.sender)\n",
    "        print(\"Recipient:\", self.recipient)\n",
    "        print(\"Subject:\", self.subject)\n",
    "\n",
    "# Example usage:\n",
    "email = Email(\"sender@example.com\", \"recipient@example.com\", \"Hello!\")\n",
    "email.send_email()\n",
    "email.display_details()\n"
   ]
  },
  {
   "cell_type": "code",
   "execution_count": 6,
   "id": "fc40dca3",
   "metadata": {},
   "outputs": [],
   "source": [
    "#Problem 9:-\n",
    "class SocialMediaProfile:\n",
    "    def __init__(self, username):\n",
    "        self.username = username\n",
    "        self.posts = []\n",
    "\n",
    "    def add_post(self, post):\n",
    "        self.posts.append(post)\n",
    "\n",
    "    def display_posts(self):\n",
    "        print(\"Posts:\")\n",
    "        for post in self.posts:\n",
    "            print(post)\n",
    "\n",
    "    def search_posts(self, keyword):\n",
    "        print(f\"Posts containing '{keyword}':\")\n",
    "        for post in self.posts:\n",
    "            if keyword in post:\n",
    "                print(post)\n",
    "\n",
    "# Example usage:\n",
    "profile = SocialMediaProfile(\"user123\")\n",
    "profile.add_post(\"Hello world!\")\n",
    "profile.add_post(\"Today is a great day.\")\n",
    "profile.add_post(\"Python is awesome.\")\n",
    "profile.display_posts()\n",
    "\n",
    "profile.search_posts(\"Python\")\n"
   ]
  },
  {
   "cell_type": "code",
   "execution_count": null,
   "id": "7e81a60e",
   "metadata": {},
   "outputs": [],
   "source": [
    "#Problem 10:-\n",
    "class ToDoList:\n",
    "    def __init__(self):\n",
    "        self.tasks = {}\n",
    "\n",
    "    def add_task(self, task, due_date):\n",
    "        self.tasks[task] = due_date\n",
    "\n",
    "    def mark_task_completed(self, task):\n",
    "        if task in self.tasks:\n",
    "            del self.tasks[task]\n",
    "            print(f\"{task} marked as completed.\")\n",
    "        else:\n",
    "            print(f\"{task} not found in ToDo list.\")\n",
    "\n",
    "    def display_pending_tasks(self):\n",
    "        print(\"Pending Tasks:\")\n",
    "        for task, due_date in self.tasks.items():\n",
    "            print(f\"{task} - Due Date: {due_date}\")\n",
    "\n",
    "# Example usage:\n",
    "todo_list = ToDoList()\n",
    "todo_list.add_task(\"Complete project\", \"2024-05-10\")\n",
    "todo_list.add_task(\"Buy groceries\", \"2024-05-08\")\n",
    "todo_list.add_task(\"Call mom\", \"2024-05-07\")\n",
    "\n",
    "todo_list.display_pending_tasks()\n",
    "\n",
    "todo_list.mark_task_completed(\"Buy groceries\")\n",
    "\n",
    "todo_list.display_pending_tasks()\n"
   ]
  }
 ],
 "metadata": {
  "kernelspec": {
   "display_name": "Python 3 (ipykernel)",
   "language": "python",
   "name": "python3"
  },
  "language_info": {
   "codemirror_mode": {
    "name": "ipython",
    "version": 3
   },
   "file_extension": ".py",
   "mimetype": "text/x-python",
   "name": "python",
   "nbconvert_exporter": "python",
   "pygments_lexer": "ipython3",
   "version": "3.11.5"
  }
 },
 "nbformat": 4,
 "nbformat_minor": 5
}
